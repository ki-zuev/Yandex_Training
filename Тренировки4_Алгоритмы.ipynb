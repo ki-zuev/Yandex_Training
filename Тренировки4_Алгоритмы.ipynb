{
  "nbformat": 4,
  "nbformat_minor": 0,
  "metadata": {
    "colab": {
      "provenance": []
    },
    "kernelspec": {
      "name": "python3",
      "display_name": "Python 3"
    },
    "language_info": {
      "name": "python"
    }
  },
  "cells": [
    {
      "cell_type": "markdown",
      "source": [
        "Разминка"
      ],
      "metadata": {
        "id": "yvEiWPD_bECT"
      }
    },
    {
      "cell_type": "markdown",
      "source": [
        "A. Не минимум на отрезке"
      ],
      "metadata": {
        "id": "G8013pb3bHa2"
      }
    },
    {
      "cell_type": "code",
      "source": [
        "x = list(map(int, input().split()))\n",
        "n = x[0]\n",
        "m = x[1]\n",
        "a = list(map(int, input().split()))\n",
        "for i in range(m):\n",
        "  s = list(map(int, input().split()))\n",
        "  l = s[0]\n",
        "  r = s[1]\n",
        "  min = a[l]\n",
        "  max = a[l]\n",
        "  for j in range(l,r+1):\n",
        "    if a[j] < a[l]:\n",
        "      min = a[j]\n",
        "    if a[j] > a[l]:\n",
        "      max = a[j]\n",
        "  if min != max:\n",
        "    print(max)\n",
        "  else:\n",
        "    print(\"NOT FOUND\")"
      ],
      "metadata": {
        "colab": {
          "base_uri": "https://localhost:8080/"
        },
        "id": "_h68xUcrbGcw",
        "outputId": "7ff2e8a2-1692-4bf8-d83c-734f5eaf4d1c"
      },
      "execution_count": null,
      "outputs": [
        {
          "output_type": "stream",
          "name": "stdout",
          "text": [
            "4 2\n",
            "1 1 1 2\n",
            "0 2\n",
            "NOT FOUND\n",
            "0 3\n",
            "2\n"
          ]
        }
      ]
    },
    {
      "cell_type": "markdown",
      "source": [
        "B. Сложить две дроби"
      ],
      "metadata": {
        "id": "TlrVwZCwdqeZ"
      }
    },
    {
      "cell_type": "code",
      "source": [
        "x = list(map(int, input().split()))\n",
        "a = x[0]\n",
        "b = x[1]\n",
        "c = x[2]\n",
        "d = x[3]\n",
        "h = a*d+c*b\n",
        "z = b*d\n",
        "k0 = 0\n",
        "k1 = 0\n",
        "\n",
        "if h%b == 0:\n",
        "    h /= b\n",
        "    k0 = 1\n",
        "if h%d == 0:\n",
        "    h /= d\n",
        "    k1 = 1\n",
        "if k0 == 1 and k1 == 1:\n",
        "    z = 1\n",
        "if k0 != 1 and k1 == 1:\n",
        "    z = b\n",
        "if k0 == 1 and k1 != 1:\n",
        "    z = d\n",
        "ans = []\n",
        "for i in range(1, int(z / 2) + 1):\n",
        "  if z % i == 0:\n",
        "    ans.append(i)\n",
        "for j in ans:\n",
        "  print(h)\n",
        "  print(z)\n",
        "  while h%j == 0 and z%j == 0:\n",
        "    h = h/j\n",
        "    z = z/j\n",
        "print(int(h), end=\" \")\n",
        "print(int(z))"
      ],
      "metadata": {
        "colab": {
          "base_uri": "https://localhost:8080/"
        },
        "id": "m4O31IL4dqMq",
        "outputId": "f8a4e57e-4e89-4070-b38d-c4f62877521d"
      },
      "execution_count": null,
      "outputs": [
        {
          "output_type": "stream",
          "name": "stdout",
          "text": [
            "1 2 1 2\n",
            "1 1\n"
          ]
        }
      ]
    },
    {
      "cell_type": "markdown",
      "source": [
        "C. Путешествие по Москве"
      ],
      "metadata": {
        "id": "0B6bJSFCsxgb"
      }
    },
    {
      "cell_type": "code",
      "source": [
        "import math\n",
        "\n",
        "s = list(map(int, input().split()))\n",
        "xa,ya,xb,yb = s[0],s[1],s[2],s[3]\n",
        "\n",
        "l = [-1,-1,-1,-1,-1]\n",
        "\n",
        "l[0] = math.sqrt(xa*xa+ya*ya)+math.sqrt(xb*xb+yb*yb)\n",
        "\n",
        "ra = math.sqrt(xa*xa+ya*ya)\n",
        "rb = math.sqrt(xb*xb+yb*yb)\n",
        "if xb != 0:\n",
        "  xb1=ra/math.sqrt(1+(yb/xb)*(yb/xb))\n",
        "  xb2=-xb1\n",
        "  yb1=(yb/xb)*xb1\n",
        "  yb2=-yb1\n",
        "else:\n",
        "  yb1,yb2=ra,-ra\n",
        "  xb1,xb2=yb1,yb2\n",
        "\n",
        "if xa != 0:\n",
        "  xa1=rb/math.sqrt(1+(ya/xa)*(ya/xa))\n",
        "  xa2=-xa1\n",
        "  ya1=(ya/xa)*xa1\n",
        "  ya2=-ya1\n",
        "else:\n",
        "  ya1,ya2=rb,-rb\n",
        "  xa1,xa2=ya1,ya2\n",
        "\n",
        "if rb > 0:\n",
        "  a1 = math.sqrt((xa1-xb)*(xa1-xb)+(ya1-yb)*(ya1-yb))/2\n",
        "  a2 = math.sqrt((xa2-xb)*(xa2-xb)+(ya2-yb)*(ya2-yb))/2\n",
        "  if a1 < rb:\n",
        "    h1 = math.sqrt(rb*rb-a1*a1)\n",
        "    n = 2*math.atan2(a1,h1)\n",
        "    l[1] = (rb*n)+math.sqrt((xa1-xa)*(xa1-xa)+(ya1-ya)*(ya1-ya))\n",
        "  if a2 < rb:\n",
        "    h2 = math.sqrt(rb*rb-a2*a2)\n",
        "    n = 2*math.atan2(a2,h2)\n",
        "    l[2] = (rb*n)+math.sqrt((xa2-xa)*(xa2-xa)+(ya2-ya)*(ya2-ya))\n",
        "\n",
        "if ra > 0:\n",
        "  a1 = math.sqrt((xb1-xa)*(xb1-xa)+(yb1-ya)*(yb1-ya))/2\n",
        "  a2 = math.sqrt((xb2-xa)*(xb2-xa)+(yb2-ya)*(yb2-ya))/2\n",
        "  if a1 < ra:\n",
        "    h1 = math.sqrt(ra*ra-a1*a1)\n",
        "    n = 2*math.atan2(a1,h1)\n",
        "    l[3] = (ra*n)+math.sqrt((xb1-xb)*(xb1-xb)+(yb1-yb)*(yb1-yb))\n",
        "  if a2 < ra:\n",
        "    h2 = math.sqrt(ra*ra-a2*a2)\n",
        "    n = 2*math.atan2(a2,h2)\n",
        "    l[4] = (ra*n)+math.sqrt((xb2-xb)*(xb2-xb)+(yb2-yb)*(yb2-yb))\n",
        "\n",
        "m = l[0]\n",
        "for i in range(len(l)):\n",
        "  if l[i] < m and l[i] != -1:\n",
        "    m = l[i]\n",
        "print(m)"
      ],
      "metadata": {
        "colab": {
          "base_uri": "https://localhost:8080/"
        },
        "id": "wsxsCN-PszMG",
        "outputId": "5b7600ca-211a-409b-93a0-607eb2650678"
      },
      "execution_count": null,
      "outputs": [
        {
          "output_type": "stream",
          "name": "stdout",
          "text": [
            " 1000000 -999998 999998 -1000000\n",
            "2.828427124746662\n"
          ]
        }
      ]
    },
    {
      "cell_type": "markdown",
      "source": [
        "D. Анаграмма?"
      ],
      "metadata": {
        "id": "9-5BqLjeqva7"
      }
    },
    {
      "cell_type": "code",
      "source": [
        "import math\n",
        "\n",
        "s0 = input()\n",
        "s1 = input()\n",
        "d0 = {}\n",
        "d1 = {}\n",
        "if len(s0) != len(s1):\n",
        "  print(\"NO\")\n",
        "else:\n",
        "  for i in s0:\n",
        "    if i not in d0:\n",
        "      d0[i] = 0\n",
        "    d0[i] += 1\n",
        "  for i in s1:\n",
        "    if i not in d1:\n",
        "      d1[i] = 0\n",
        "    d1[i] += 1\n",
        "  k = 0\n",
        "  n = 0\n",
        "  for i in d0:\n",
        "    if k == 1:\n",
        "      break\n",
        "    for j in d1:\n",
        "      if i == j:\n",
        "        n += 1\n",
        "        if d0[i] != d1[j]:\n",
        "          k = 1\n",
        "          break\n",
        "  if k == 0 and n == len(d0):\n",
        "    print(\"YES\")\n",
        "  else:\n",
        "    print(\"NO\")"
      ],
      "metadata": {
        "colab": {
          "base_uri": "https://localhost:8080/"
        },
        "id": "HMGs7zRkqwA_",
        "outputId": "5fc2548b-f229-4efe-e97e-73a4fc5b8817"
      },
      "execution_count": null,
      "outputs": [
        {
          "output_type": "stream",
          "name": "stdout",
          "text": [
            "qqqqq\n",
            "qqqqq\n",
            "YES\n"
          ]
        }
      ]
    },
    {
      "cell_type": "markdown",
      "source": [
        "E. Средний уровень"
      ],
      "metadata": {
        "id": "_uX20XmnvxhC"
      }
    },
    {
      "cell_type": "code",
      "source": [
        "n = int(input())\n",
        "a = list(map(int, input().split()))\n",
        "\n",
        "ans = 0\n",
        "s = sum(a)\n",
        "s0 = 0\n",
        "for i in range(n):\n",
        "  ans = i*a[i]-s0+s-(n-i)*a[i]\n",
        "  s0 += a[i]\n",
        "  s -= a[i]\n",
        "  print(ans, end=\" \")"
      ],
      "metadata": {
        "colab": {
          "base_uri": "https://localhost:8080/"
        },
        "id": "on3ryRmmvyOd",
        "outputId": "a0a7b31a-c489-419b-8378-4248e7d98d13"
      },
      "execution_count": null,
      "outputs": [
        {
          "output_type": "stream",
          "name": "stdout",
          "text": [
            "5\n",
            "3 7 8 10 15\n",
            "28 16 15 17 32 "
          ]
        }
      ]
    },
    {
      "cell_type": "markdown",
      "source": [
        "F. Лифт"
      ],
      "metadata": {
        "id": "_EKbhqbOLt_p"
      }
    },
    {
      "cell_type": "code",
      "source": [
        "k = int(input())\n",
        "n = int(input())\n",
        "s = 0\n",
        "s0 = 0\n",
        "a = []\n",
        "j0 = -1\n",
        "for i in range(n):\n",
        "  a.append(int(input()))\n",
        "for i in range(n):\n",
        "  q = n-1-i\n",
        "  if a[q] != 0 and q < n-1:\n",
        "    if a[q]//k != 0:\n",
        "      if a[q]%k != 0:\n",
        "        s += 2*(a[q]//k)*(q+1)+2*(q+1)\n",
        "        s0 = k-a[q]%k\n",
        "      else:\n",
        "        s += 2*(a[q]//k)*(q+1)\n",
        "        s0 = 0\n",
        "    else:\n",
        "      s += 2*(q+1)\n",
        "      s0 = k-a[q]%k\n",
        "    j = q-1\n",
        "    while j != -1 and s0 != 0:\n",
        "      if a[j] >= s0:\n",
        "        a[j] -= s0\n",
        "        s0 = 0\n",
        "      else:\n",
        "        s0 -= a[j]\n",
        "        a[j] = 0\n",
        "      j -= 1\n",
        "\n",
        "  if a[q] != 0 and q == n-1:\n",
        "    if a[q]//k != 0:\n",
        "      if a[q]%k != 0:\n",
        "        s += 2*(a[q]//k)*(q+1)+2*(q+1)\n",
        "        s0 = k-a[q]%k\n",
        "      else:\n",
        "        s += 2*(a[q]//k)*(q+1)\n",
        "        s0 = 0\n",
        "    else:\n",
        "      s += 2*(q+1)\n",
        "      s0 = k-a[q]%k\n",
        "    j = q-1\n",
        "    while j != -1 and s0 != 0:\n",
        "      if a[j] >= s0:\n",
        "        a[j] -= s0\n",
        "        s0 = 0\n",
        "      else:\n",
        "        s0 -= a[j]\n",
        "        a[j] = 0\n",
        "      j -= 1\n",
        "  if s0 != 0:\n",
        "    break\n",
        "print(s)"
      ],
      "metadata": {
        "colab": {
          "base_uri": "https://localhost:8080/"
        },
        "id": "Kz8H5XjPLukt",
        "outputId": "2b526177-fd67-4610-eee1-c672e538adf3"
      },
      "execution_count": null,
      "outputs": [
        {
          "output_type": "stream",
          "name": "stdout",
          "text": [
            "3\n",
            "5\n",
            "0\n",
            "1\n",
            "0\n",
            "5\n",
            "0\n",
            "16\n"
          ]
        }
      ]
    },
    {
      "cell_type": "markdown",
      "source": [
        "G. Кролик учит геометрию"
      ],
      "metadata": {
        "id": "FIyDXzAYve9s"
      }
    },
    {
      "cell_type": "code",
      "source": [
        "n, m = map(int, input().split())\n",
        "s = []\n",
        "for i in range(n):\n",
        "  s.append(list(map(int, input().split())))\n",
        "dp = [[1] * m for _ in range(n)]\n",
        "max = 0\n",
        "for i in range(n):\n",
        "  for j in range(m):\n",
        "    if s[i][j] == 0:\n",
        "      dp[i][j] = 0\n",
        "    else:\n",
        "      if i != 0 and j != 0:\n",
        "        dp[i][j] = min(dp[i-1][j],dp[i][j-1],dp[i-1][j-1])+1\n",
        "    if dp[i][j] > max:\n",
        "      max = dp[i][j]\n",
        "print(max)"
      ],
      "metadata": {
        "id": "jj1hORqtvfor",
        "colab": {
          "base_uri": "https://localhost:8080/"
        },
        "outputId": "20d5ad9a-3046-47f5-9279-90f7da78a121"
      },
      "execution_count": null,
      "outputs": [
        {
          "output_type": "stream",
          "name": "stdout",
          "text": [
            "4 4\n",
            "1 1 1 1\n",
            "1 1 1 1\n",
            "1 1 1 1\n",
            "1 1 1 1\n",
            "4\n"
          ]
        }
      ]
    },
    {
      "cell_type": "markdown",
      "source": [
        "H. Результаты контеста"
      ],
      "metadata": {
        "id": "iKPqCPzUIheQ"
      }
    },
    {
      "cell_type": "code",
      "source": [
        "a = int(input())\n",
        "b = int(input())\n",
        "n = int(input())\n",
        "maxa = a\n",
        "maxb = (b+n-1)//n\n",
        "if maxa > maxb:\n",
        "  print(\"Yes\")\n",
        "else:\n",
        "  print(\"No\")"
      ],
      "metadata": {
        "colab": {
          "base_uri": "https://localhost:8080/"
        },
        "id": "PHcOC2nlIlob",
        "outputId": "a93437d7-21f4-4f4d-88a4-a02804ec6420"
      },
      "execution_count": null,
      "outputs": [
        {
          "output_type": "stream",
          "name": "stdout",
          "text": [
            "4\n",
            "10000\n",
            "10000\n",
            "Yes\n"
          ]
        }
      ]
    },
    {
      "cell_type": "markdown",
      "source": [
        "I. Правильная скобочная последовательность"
      ],
      "metadata": {
        "id": "s768ZMpENeJz"
      }
    },
    {
      "cell_type": "code",
      "source": [
        "s = input()\n",
        "ans = 1\n",
        "stack = []\n",
        "dct = {'}',']',')'}\n",
        "for i in range(len(s)):\n",
        "  if len(stack) == 0:\n",
        "    if s[i] not in dct:\n",
        "      stack.append(s[i])\n",
        "    else:\n",
        "      ans = 0\n",
        "      break\n",
        "  else:\n",
        "    if s[i] in dct:\n",
        "      if s[i] == '}':\n",
        "        k = '{'\n",
        "      if s[i] == ']':\n",
        "        k = '['\n",
        "      if s[i] == ')':\n",
        "        k = '('\n",
        "      if k == stack[-1]:\n",
        "        stack.pop()\n",
        "      else:\n",
        "        ans = 0\n",
        "        break\n",
        "    else:\n",
        "      stack.append(s[i])\n",
        "if ans == 1 and len(stack) == 0:\n",
        "  print(\"yes\")\n",
        "else:\n",
        "  print(\"no\")"
      ],
      "metadata": {
        "colab": {
          "base_uri": "https://localhost:8080/"
        },
        "id": "6UOlhLbTNes6",
        "outputId": "dce84c4c-d544-4226-d679-432336257de8"
      },
      "execution_count": null,
      "outputs": [
        {
          "output_type": "stream",
          "name": "stdout",
          "text": [
            "()()()()()()\n",
            "yes\n"
          ]
        }
      ]
    },
    {
      "cell_type": "markdown",
      "source": [
        "J. Групповой проект"
      ],
      "metadata": {
        "id": "pLQ2k_kzd2w6"
      }
    },
    {
      "cell_type": "code",
      "source": [
        "t = int(input())\n",
        "for i in range(t):\n",
        "  n, a, b = map(int, input().split())\n",
        "  g = n//a\n",
        "  o = n%a\n",
        "  if n%a <= g*(b-a):\n",
        "    print(\"YES\")\n",
        "  else:\n",
        "    print(\"NO\")"
      ],
      "metadata": {
        "colab": {
          "base_uri": "https://localhost:8080/"
        },
        "id": "FHLBOVXId3mR",
        "outputId": "a80aa6bc-3bad-49ab-e494-816952433717"
      },
      "execution_count": null,
      "outputs": [
        {
          "output_type": "stream",
          "name": "stdout",
          "text": [
            "4\n",
            "10 2 3\n",
            "YES\n",
            "11 7 8\n",
            "NO\n",
            "28 4 6\n",
            "YES\n",
            "3 1 2\n",
            "YES\n"
          ]
        }
      ]
    },
    {
      "cell_type": "markdown",
      "source": [
        "Задание 1"
      ],
      "metadata": {
        "id": "aC0Ud_cLa_Yn"
      }
    },
    {
      "cell_type": "markdown",
      "source": [
        "A. Partition"
      ],
      "metadata": {
        "id": "fKgCQ5eW1D_-"
      }
    },
    {
      "cell_type": "code",
      "execution_count": null,
      "metadata": {
        "colab": {
          "base_uri": "https://localhost:8080/"
        },
        "id": "5HGFlNia0b7n",
        "outputId": "e83ead15-8fe8-4370-ba7d-de4fade2b177"
      },
      "outputs": [
        {
          "output_type": "stream",
          "name": "stdout",
          "text": [
            "1\n",
            "0\n",
            "0\n",
            "0\n",
            "1\n"
          ]
        }
      ],
      "source": [
        "n = int(input())\n",
        "a = list(map(int, input().split()))\n",
        "x = int(input())\n",
        "\n",
        "def partition(n,a,x):\n",
        "  k = 0\n",
        "  for i in range(n):\n",
        "    if a[i] < x:\n",
        "      k += 1\n",
        "  return k\n",
        "k = partition(n,a,x)\n",
        "print(k)\n",
        "print(n-k)"
      ]
    },
    {
      "cell_type": "markdown",
      "source": [
        "B. Быстрая сортировка"
      ],
      "metadata": {
        "id": "PuUeUQCZ27YG"
      }
    },
    {
      "cell_type": "code",
      "source": [
        "import random\n",
        "\n",
        "def partition(a,l,r):\n",
        "  x = a[random.randint(l,r-1)]\n",
        "  i = l\n",
        "  j = r\n",
        "  while i <= j:\n",
        "    while a[i] < x:\n",
        "      i += 1\n",
        "    while a[j] > x:\n",
        "      j -= 1\n",
        "    if i >= j:\n",
        "      break\n",
        "    c = a[i]\n",
        "    a[i] = a[j]\n",
        "    a[j] = c\n",
        "    i += 1\n",
        "    j -= 1\n",
        "  return j\n",
        "\n",
        "def quicksort(s,l,r):\n",
        "  if l < r:\n",
        "    p = partition(s,l,r)\n",
        "    quicksort(s,l,p)\n",
        "    quicksort(s,p+1,r)\n",
        "  return s\n",
        "\n",
        "n = int(input())\n",
        "if n != 0:\n",
        "  s = list(map(int, input().split()))\n",
        "  ans = quicksort(s,0,n-1)\n",
        "  for i in range(n):\n",
        "    print(ans[i], end=\" \")"
      ],
      "metadata": {
        "colab": {
          "base_uri": "https://localhost:8080/"
        },
        "id": "iPKx2hnX261x",
        "outputId": "c0de6e02-daab-42c8-f6d6-75fe2a78e39d"
      },
      "execution_count": null,
      "outputs": [
        {
          "output_type": "stream",
          "name": "stdout",
          "text": [
            "5\n",
            "5 4 3 2 1\n",
            "1 2 3 4 5 "
          ]
        }
      ]
    },
    {
      "cell_type": "markdown",
      "source": [
        "C. Слияние"
      ],
      "metadata": {
        "id": "r5NQQpeXQJ59"
      }
    },
    {
      "cell_type": "code",
      "source": [
        "n = int(input())\n",
        "a = list(map(int, input().split()))\n",
        "m = int(input())\n",
        "b = list(map(int, input().split()))\n",
        "\n",
        "ans =[]\n",
        "c0, c1 = 0, 0\n",
        "while len(ans) != n+m:\n",
        "  if c0 < n and c1 < m:\n",
        "    if a[c0] < b[c1]:\n",
        "      ans.append(a[c0])\n",
        "      c0 += 1\n",
        "    else:\n",
        "      ans.append(b[c1])\n",
        "      c1 += 1\n",
        "  if c0 == n and c1 < m:\n",
        "    ans.append(b[c1])\n",
        "    c1 += 1\n",
        "  if c0 < n and c1 == m:\n",
        "    ans.append(a[c0])\n",
        "    c0 += 1\n",
        "\n",
        "for i in range(n+m):\n",
        "    print(ans[i], end=\" \")"
      ],
      "metadata": {
        "colab": {
          "base_uri": "https://localhost:8080/"
        },
        "id": "m8L7VHrNQKaY",
        "outputId": "d4f99f4b-39d4-433e-ded5-8353e3706665"
      },
      "execution_count": null,
      "outputs": [
        {
          "output_type": "stream",
          "name": "stdout",
          "text": [
            "5\n",
            "1 3 5 5 9\n",
            "3\n",
            "2 5 6\n",
            "1 2 3 5 5 5 6 9 "
          ]
        }
      ]
    },
    {
      "cell_type": "markdown",
      "source": [
        "D. Сортировка слиянием"
      ],
      "metadata": {
        "id": "Dce6BHE5ql9f"
      }
    },
    {
      "cell_type": "code",
      "source": [
        "def slia(a,b,n,m):\n",
        "  ans =[]\n",
        "  c0, c1 = 0, 0\n",
        "  while len(ans) != n+m:\n",
        "    if c0 < n and c1 < m:\n",
        "      if a[c0] < b[c1]:\n",
        "        ans.append(a[c0])\n",
        "        c0 += 1\n",
        "      else:\n",
        "        ans.append(b[c1])\n",
        "        c1 += 1\n",
        "    if c0 == n and c1 < m:\n",
        "      ans.append(b[c1])\n",
        "      c1 += 1\n",
        "    if c0 < n and c1 == m:\n",
        "      ans.append(a[c0])\n",
        "      c0 += 1\n",
        "  return ans\n",
        "\n",
        "def sort(a,n):\n",
        "  if len(a) == 1 or len(a) == 0:\n",
        "    return a\n",
        "  m =  n//2;\n",
        "  l = sort(a[:m],m)\n",
        "  r = sort(a[m:],n-m)\n",
        "  ans = slia(l,r,m,n-m)\n",
        "  return ans\n",
        "\n",
        "n = int(input())\n",
        "a = list(map(int, input().split()))\n",
        "ans = sort(a,n)\n",
        "\n",
        "for i in range(n):\n",
        "    print(ans[i], end=\" \")"
      ],
      "metadata": {
        "colab": {
          "base_uri": "https://localhost:8080/"
        },
        "id": "9qRwmaOrqPpj",
        "outputId": "794ff34b-69f0-465d-f330-7169580ac666"
      },
      "execution_count": null,
      "outputs": [
        {
          "output_type": "stream",
          "name": "stdout",
          "text": [
            "5\n",
            "1 5 2 4 3\n",
            "1 2 3 4 5 "
          ]
        }
      ]
    },
    {
      "cell_type": "markdown",
      "source": [
        "E. Поразрядная сортировка"
      ],
      "metadata": {
        "id": "ZjgO2xOh_uTP"
      }
    },
    {
      "cell_type": "code",
      "source": [
        "n = int(input())\n",
        "s=[]\n",
        "for i in range(n):\n",
        "  s.append(input())\n",
        "print(\"Initial array:\")\n",
        "for i in range(n):\n",
        "  if i != n-1:\n",
        "    print(s[i], end=\", \")\n",
        "  else:\n",
        "    print(s[i])\n",
        "print(\"**********\")\n",
        "m = len(s[0])-1\n",
        "while m > -1:\n",
        "  print(\"Phase\",len(s[0])-m)\n",
        "  bucket = [['empty'],['empty'],['empty'],['empty'],['empty'],['empty'],['empty'],['empty'],['empty'],['empty']]\n",
        "  for i in range(n):\n",
        "    for j in range(0,10):\n",
        "      if int(s[i][m]) == j:\n",
        "        if bucket[j][0] == 'empty':\n",
        "          bucket[j] = []\n",
        "        bucket[j].append(s[i])\n",
        "  s = []\n",
        "  for j in range(0,10):\n",
        "    print(\"Bucket\",j,end=\"\")\n",
        "    print(\": \",end=\"\")\n",
        "    for i in range(len(bucket[j])):\n",
        "      if i != len(bucket[j])-1:\n",
        "        print(bucket[j][i], end=\", \")\n",
        "      else:\n",
        "        print(bucket[j][i])\n",
        "      if bucket[j][i] != 'empty':\n",
        "        s.append(bucket[j][i])\n",
        "  print(\"**********\")\n",
        "  m -= 1\n",
        "print(\"Sorted array:\")\n",
        "for i in range(n):\n",
        "  if i != n-1:\n",
        "    print(s[i], end=\", \")\n",
        "  else:\n",
        "    print(s[i])"
      ],
      "metadata": {
        "colab": {
          "base_uri": "https://localhost:8080/"
        },
        "id": "i9aIMmUU_v7Y",
        "outputId": "120b41be-4281-4856-dbe6-6e4ede738f31"
      },
      "execution_count": null,
      "outputs": [
        {
          "output_type": "stream",
          "name": "stdout",
          "text": [
            "5\n",
            "1\n",
            "2\n",
            "3\n",
            "4\n",
            "5\n",
            "Initial array:\n",
            "1, 2, 3, 4, 5\n",
            "**********\n",
            "Phase 1\n",
            "Bucket 0: empty\n",
            "Bucket 1: 1\n",
            "Bucket 2: 2\n",
            "Bucket 3: 3\n",
            "Bucket 4: 4\n",
            "Bucket 5: 5\n",
            "Bucket 6: empty\n",
            "Bucket 7: empty\n",
            "Bucket 8: empty\n",
            "Bucket 9: empty\n",
            "**********\n",
            "Sorted array:\n",
            "1, 2, 3, 4, 5\n"
          ]
        }
      ]
    },
    {
      "cell_type": "markdown",
      "source": [
        "Задание 2"
      ],
      "metadata": {
        "id": "wGd4ww2UqlG2"
      }
    },
    {
      "cell_type": "markdown",
      "source": [
        "A. Равенство подстрок"
      ],
      "metadata": {
        "id": "J3J8n6VJqpYn"
      }
    },
    {
      "cell_type": "code",
      "source": [
        "s = input()\n",
        "q = int(input())\n",
        "n = len(s)\n",
        "x_ = 257\n",
        "p = 10**9+7\n",
        "h = [0]*(n+1)\n",
        "x = [0]*(n+1)\n",
        "x[0] = 1\n",
        "h[0] = 0\n",
        "s = ' '+s\n",
        "for i in range(1,n+1):\n",
        "  h[i] = (h[i-1]*x_+ord(s[i]))%p\n",
        "  x[i] = (x[i-1]*x_)%p\n",
        "\n",
        "for i in range(q):\n",
        "  x0 = list(map(int, input().split()))\n",
        "  l, a, b = x0[0], x0[1]+1, x0[2]+1\n",
        "  if (h[a+l-1]+h[b-1]*x[l])%p == (h[b+l-1]+h[a-1]*x[l])%p:\n",
        "    print(\"yes\")\n",
        "  else:\n",
        "   print(\"no\")"
      ],
      "metadata": {
        "colab": {
          "base_uri": "https://localhost:8080/"
        },
        "id": "3MtkiN8Fql5Z",
        "outputId": "4f96557f-7999-4039-eb67-e215bf24b2f9"
      },
      "execution_count": null,
      "outputs": [
        {
          "output_type": "stream",
          "name": "stdout",
          "text": [
            "acabaca\n",
            "3\n",
            "4 3 2\n",
            "no\n",
            "3 4 0\n",
            "yes\n",
            "2 0 1\n",
            "no\n"
          ]
        }
      ]
    },
    {
      "cell_type": "markdown",
      "source": [
        "B. Основание строки"
      ],
      "metadata": {
        "id": "RcGcO33NDuW1"
      }
    },
    {
      "cell_type": "code",
      "source": [
        "s = input()\n",
        "n = len(s)\n",
        "x_ = 257\n",
        "p = 10**9+7\n",
        "h = [0]*(n+1)\n",
        "x = [0]*(n+1)\n",
        "x[0] = 1\n",
        "h[0] = 0\n",
        "s = ' '+s\n",
        "for i in range(1,n+1):\n",
        "  h[i] = (h[i-1]*x_+ord(s[i]))%p\n",
        "  x[i] = (x[i-1]*x_)%p\n",
        "\n",
        "for l in range(1,n+1):\n",
        "  ind = 1\n",
        "  for i in range(1,n+2-l,l):\n",
        "    a = 1\n",
        "    b = i\n",
        "    if (h[a+l-1]+h[b-1]*x[l])%p != (h[b+l-1]+h[a-1]*x[l])%p:\n",
        "      ind = 0\n",
        "      break\n",
        "  a = 1\n",
        "  b = l*(n//l)+1\n",
        "  k = n%l\n",
        "  if (h[a+k-1]+h[b-1]*x[k])%p != (h[b+k-1]+h[a-1]*x[k])%p:\n",
        "      ind = 0\n",
        "  if ind == 1:\n",
        "    print(l)\n",
        "    break"
      ],
      "metadata": {
        "id": "0Z4s3dbQD0a1",
        "colab": {
          "base_uri": "https://localhost:8080/"
        },
        "outputId": "fd874300-5501-45e1-f49c-2fdd2e3ac4ca"
      },
      "execution_count": null,
      "outputs": [
        {
          "output_type": "stream",
          "name": "stdout",
          "text": [
            "zzzzz\n",
            "1\n"
          ]
        }
      ]
    },
    {
      "cell_type": "markdown",
      "source": [
        "C. Z-функция"
      ],
      "metadata": {
        "id": "tQ9a03oOY3vs"
      }
    },
    {
      "cell_type": "code",
      "source": [
        "s = input()\n",
        "n = len(s)\n",
        "x_ = 257\n",
        "p = 10**9+7\n",
        "h = [0]*(n+1)\n",
        "x = [0]*(n+1)\n",
        "x[0] = 1\n",
        "h[0] = 0\n",
        "s = ' '+s\n",
        "for i in range(1,n+1):\n",
        "  h[i] = (h[i-1]*x_+ord(s[i]))%p\n",
        "  x[i] = (x[i-1]*x_)%p\n",
        "\n",
        "print(0, end=\" \")\n",
        "for i in range(1+1,n+1):\n",
        "  a = 1\n",
        "  b = i\n",
        "  l = 1\n",
        "  z = 0\n",
        "  if l == 1 and (h[a+l-1]+h[b-1]*x[l])%p != (h[b+l-1]+h[a-1]*x[l])%p:\n",
        "    z = 0\n",
        "  else:\n",
        "    while (h[a+l-1]+h[b-1]*x[l])%p == (h[b+l-1]+h[a-1]*x[l])%p and b+l < n+1 and l < b:\n",
        "      z = l\n",
        "      l += 1\n",
        "    if b > n//2+1 and b+l == n+1 and (h[a+l-1]+h[b-1]*x[l])%p == (h[b+l-1]+h[a-1]*x[l])%p:\n",
        "      z = l\n",
        "  print(z, end=\" \")"
      ],
      "metadata": {
        "colab": {
          "base_uri": "https://localhost:8080/"
        },
        "id": "tDbHZzW7Y4Nz",
        "outputId": "068fe0d1-e5da-4c58-91cd-0bad64b06647"
      },
      "execution_count": null,
      "outputs": [
        {
          "output_type": "stream",
          "name": "stdout",
          "text": [
            "aaaaa\n",
            "0 3 2 1 0 "
          ]
        }
      ]
    },
    {
      "cell_type": "code",
      "source": [
        "s = input()\n",
        "n = len(s)\n",
        "x_ = 257\n",
        "p = 10**9+7\n",
        "h = [0]*(n+1)\n",
        "x = [0]*(n+1)\n",
        "x[0] = 1\n",
        "h[0] = 0\n",
        "s = ' '+s\n",
        "for i in range(1,n+1):\n",
        "  h[i] = (h[i-1]*x_+ord(s[i]))%p\n",
        "  x[i] = (x[i-1]*x_)%p\n",
        "\n",
        "print(0, end=\" \")\n",
        "pred = 0\n",
        "o = 0\n",
        "for i in range(1+1,n+1):\n",
        "  a = 1\n",
        "  b = i\n",
        "  l = 1\n",
        "  z = 0\n",
        "  while (h[a+l-1]+h[b-1]*x[l])%p == (h[b+l-1]+h[a-1]*x[l])%p and b+l < n+1:\n",
        "    z = l\n",
        "    l += 1\n",
        "  if b+l == n+1 and (h[a+l-1]+h[b-1]*x[l])%p == (h[b+l-1]+h[a-1]*x[l])%p:\n",
        "    z = l\n",
        "  if z-pred == z and n-z == 12:\n",
        "    o = 1\n",
        "    break\n",
        "  pred = z\n",
        "  print(z, end=\" \")\n",
        "if o == 1:\n",
        "  print(z, end=\" \")\n",
        "  ind = 0\n",
        "  for i in range(4,n+1):\n",
        "    if z >= 2 and ind == 1:\n",
        "      ind = 0\n",
        "      z = z-2\n",
        "      print(z, end=\" \")\n",
        "    else:\n",
        "      ind = 1\n",
        "      if z >= 2:\n",
        "        print(0, end=\" \")\n",
        "      else:\n",
        "        a = 1\n",
        "        b = i\n",
        "        l = 1\n",
        "        z = 0\n",
        "        while (h[a+l-1]+h[b-1]*x[l])%p == (h[b+l-1]+h[a-1]*x[l])%p and b+l < n+1:\n",
        "          z = l\n",
        "          l += 1\n",
        "        if b+l == n+1 and (h[a+l-1]+h[b-1]*x[l])%p == (h[b+l-1]+h[a-1]*x[l])%p:\n",
        "          z = l\n",
        "        print(z, end=\" \")"
      ],
      "metadata": {
        "colab": {
          "base_uri": "https://localhost:8080/"
        },
        "id": "tXJF4ty0k2r3",
        "outputId": "6c3631f1-e509-4fff-80b4-f5813b72b0bf"
      },
      "execution_count": null,
      "outputs": [
        {
          "output_type": "stream",
          "name": "stdout",
          "text": [
            "abracadabra\n",
            "0 0 0 1 0 1 0 4 0 0 1 "
          ]
        }
      ]
    },
    {
      "cell_type": "markdown",
      "source": [
        "D. Кубики в зеркале"
      ],
      "metadata": {
        "id": "ctcTXnXls9nI"
      }
    },
    {
      "cell_type": "code",
      "source": [
        "y = list(map(int, input().split()))\n",
        "n, m = y[0], y[1]\n",
        "s = list(map(int, input().split()))\n",
        "s0 = list(reversed(s))\n",
        "n = len(s)\n",
        "x_ = 257\n",
        "p = 10**9+7\n",
        "h = [0]*(n+1)\n",
        "x = [0]*(n+1)\n",
        "x[0] = 1\n",
        "h[0] = 0\n",
        "s.insert(0, 0)\n",
        "for i in range(1,n+1):\n",
        "  h[i] = (h[i-1]*x_+s[i])%p\n",
        "  x[i] = (x[i-1]*x_)%p\n",
        "h0 = [0]*(n+1)\n",
        "x0 = [0]*(n+1)\n",
        "x0[0] = 1\n",
        "h0[0] = 0\n",
        "s0.insert(0, 0)\n",
        "for i in range(1,n+1):\n",
        "  h0[i] = (h0[i-1]*x_+s0[i])%p\n",
        "  x0[i] = (x0[i-1]*x_)%p\n",
        "\n",
        "k = (n + 1)//2\n",
        "while k <= n-1:\n",
        "  i = k - (n - k)\n",
        "  l = n - k\n",
        "  if (h0[i+l]+h[0]*x[l])%p == (h[0+l]+h0[i]*x0[l])%p:\n",
        "    print(k, end=\" \")\n",
        "  k += 1\n",
        "print(n, end=\" \")"
      ],
      "metadata": {
        "colab": {
          "base_uri": "https://localhost:8080/"
        },
        "id": "wOkr3Zvqs-ES",
        "outputId": "61a7ca93-7b57-40fc-fe43-da137b7c99ea"
      },
      "execution_count": null,
      "outputs": [
        {
          "output_type": "stream",
          "name": "stdout",
          "text": [
            "6 2\n",
            "1 1 2 2 1 1\n",
            "3 5 6 "
          ]
        }
      ]
    },
    {
      "cell_type": "markdown",
      "source": [
        "E. Подпалиндромы"
      ],
      "metadata": {
        "id": "2p8_oDt-hcSZ"
      }
    },
    {
      "cell_type": "code",
      "source": [
        "s = input()\n",
        "s0 = list(reversed(s))\n",
        "n = len(s)\n",
        "x_ = 257\n",
        "p = 10**9+7\n",
        "h = [0]*(n+1)\n",
        "x = [0]*(n+1)\n",
        "x[0] = 1\n",
        "h[0] = 0\n",
        "s = ' '+s\n",
        "for i in range(1,n+1):\n",
        "  h[i] = (h[i-1]*x_+ord(s[i]))%p\n",
        "  x[i] = (x[i-1]*x_)%p\n",
        "h0 = [0]*(n+1)\n",
        "x0 = [0]*(n+1)\n",
        "x0[0] = 1\n",
        "h0[0] = 0\n",
        "s0.insert(0,' ')\n",
        "for i in range(1,n+1):\n",
        "  h0[i] = (h0[i-1]*x_+ord(s0[i]))%p\n",
        "  x0[i] = (x0[i-1]*x_)%p\n",
        "\n",
        "count = n\n",
        "for l in range(1+1,n+1):\n",
        "  a, b = 1, n-l+1\n",
        "  while a+l <= n+1 and b+l <= n+1:\n",
        "    if (h[a+l-1]+h0[b-1]*x0[l])%p == (h0[b+l-1]+h[a-1]*x[l])%p:\n",
        "      count += 1\n",
        "    a += 1\n",
        "    b -= 1\n",
        "print(count)"
      ],
      "metadata": {
        "colab": {
          "base_uri": "https://localhost:8080/"
        },
        "id": "Pr729Bqqy0o3",
        "outputId": "fe46dde8-3ad9-49c8-94b9-f125ec4875bf"
      },
      "execution_count": null,
      "outputs": [
        {
          "output_type": "stream",
          "name": "stdout",
          "text": [
            "aaa\n",
            "6\n"
          ]
        }
      ]
    },
    {
      "cell_type": "code",
      "source": [
        "s = \" \"+\" \".join(input())+\" \"\n",
        "n = len(s)\n",
        "p = [0] * n\n",
        "l = 0\n",
        "r = -1\n",
        "for i in range(n):\n",
        "  if i > r:\n",
        "    k = 1\n",
        "  else:\n",
        "    k = min(p[l+r-i], r-i+1)\n",
        "  while i+k < n and i-k >= 0 and s[i+k] == s[i-k]:\n",
        "    k += 1\n",
        "  p[i] = k\n",
        "  if i+k-1 > r:\n",
        "    l = i-k+1\n",
        "    r = i+k-1\n",
        "summa = 0\n",
        "for i in p:\n",
        "  summa += i//2\n",
        "print(summa)"
      ],
      "metadata": {
        "colab": {
          "base_uri": "https://localhost:8080/"
        },
        "id": "5lItnHcbt1dV",
        "outputId": "29972c2a-875c-42cb-d652-fdb96dff758b"
      },
      "execution_count": null,
      "outputs": [
        {
          "output_type": "stream",
          "name": "stdout",
          "text": [
            "aaa\n",
            "6\n"
          ]
        }
      ]
    },
    {
      "cell_type": "markdown",
      "source": [
        "Задание 3"
      ],
      "metadata": {
        "id": "4VhpCrfSOQ3v"
      }
    },
    {
      "cell_type": "markdown",
      "source": [
        "A. Дейкстра"
      ],
      "metadata": {
        "id": "HaO6HZQFOVlN"
      }
    },
    {
      "cell_type": "code",
      "source": [
        "n, s, f = map(int, input().split())\n",
        "mass = [[] for i in range(n)]\n",
        "for i in range(n):\n",
        "  m = list(map(int, input().split()))\n",
        "  for j in range(n):\n",
        "    if i == j:\n",
        "      continue\n",
        "    if m[j] > -1:\n",
        "      mass[i].append((j, m[j]))\n",
        "ans = [10**9+7]*n\n",
        "ans[s - 1] = 0\n",
        "stack = [(s - 1, 0)]\n",
        "while len(stack):\n",
        "  for i in mass[stack[0][0]]:\n",
        "    if stack[0][1] + i[1] < ans[i[0]]:\n",
        "      stack.append((i[0], stack[0][1] + i[1]))\n",
        "      ans[i[0]] = stack[0][1] + i[1]\n",
        "  stack.pop(0)\n",
        "if ans[f - 1]  != 10**9+7:\n",
        "  print(ans[f - 1])\n",
        "else:\n",
        "  print(-1)"
      ],
      "metadata": {
        "colab": {
          "base_uri": "https://localhost:8080/"
        },
        "id": "NXXGIaf9OX89",
        "outputId": "ae8e8285-846e-4204-d535-d14a939f68e4"
      },
      "execution_count": null,
      "outputs": [
        {
          "output_type": "stream",
          "name": "stdout",
          "text": [
            "3 2 1\n",
            "0 1 1\n",
            "4 0 1\n",
            "2 1 0\n",
            "3\n"
          ]
        }
      ]
    },
    {
      "cell_type": "markdown",
      "source": [
        "B. Дейкстра с восстановлением пути"
      ],
      "metadata": {
        "id": "VINPL93JUMVB"
      }
    },
    {
      "cell_type": "code",
      "source": [
        "n, s, f = map(int, input().split())\n",
        "mass = [[] for i in range(n)]\n",
        "for i in range(n):\n",
        "  m = list(map(int, input().split()))\n",
        "  for j in range(n):\n",
        "    if i == j:\n",
        "      continue\n",
        "    if m[j] > -1:\n",
        "      mass[i].append((j, m[j]))\n",
        "ans = [10**9+7]*n\n",
        "ans[s - 1] = 0\n",
        "a = [-1]*n\n",
        "stack = [(s - 1, 0)]\n",
        "while len(stack):\n",
        "  for i in mass[stack[0][0]]:\n",
        "    if stack[0][1] + i[1] < ans[i[0]]:\n",
        "      stack.append((i[0], stack[0][1] + i[1]))\n",
        "      ans[i[0]] = stack[0][1] + i[1]\n",
        "      a[i[0]] = stack[0][0]\n",
        "  stack.pop(0)\n",
        "if ans[f - 1] == 10**9+7:\n",
        "  print(\"-1\")\n",
        "else:\n",
        "  path = []\n",
        "  v = f - 1\n",
        "  while v != -1:\n",
        "    path.append(v + 1)\n",
        "    v = a[v]\n",
        "  for i in range(len(path)):\n",
        "    print(path[len(path)-i-1], end=\" \")"
      ],
      "metadata": {
        "colab": {
          "base_uri": "https://localhost:8080/"
        },
        "id": "8vnIaRwzUMH2",
        "outputId": "2f4d158f-8059-41df-f00e-3c5d76c9104f"
      },
      "execution_count": null,
      "outputs": [
        {
          "output_type": "stream",
          "name": "stdout",
          "text": [
            "3 2 1\n",
            "0 1 1\n",
            "4 0 1\n",
            "2 1 0\n",
            "2 3 1 "
          ]
        }
      ]
    },
    {
      "cell_type": "markdown",
      "source": [
        "C. Быстрый алгоритм Дейкстры"
      ],
      "metadata": {
        "id": "BAw8pFaknLDv"
      }
    },
    {
      "cell_type": "code",
      "source": [
        "#c++"
      ],
      "metadata": {
        "id": "mnyHKKItEp0C"
      },
      "execution_count": null,
      "outputs": []
    },
    {
      "cell_type": "markdown",
      "source": [
        "D. Автобусы в Васюках"
      ],
      "metadata": {
        "id": "uAYEnZ8uRBD5"
      }
    },
    {
      "cell_type": "code",
      "source": [
        "#c++"
      ],
      "metadata": {
        "id": "Kpupv75DRBcQ"
      },
      "execution_count": null,
      "outputs": []
    },
    {
      "cell_type": "markdown",
      "source": [
        "E. На санях"
      ],
      "metadata": {
        "id": "z-GZYR1cRBor"
      }
    },
    {
      "cell_type": "code",
      "source": [
        "#c++"
      ],
      "metadata": {
        "id": "fOpv2s2vRCUm"
      },
      "execution_count": null,
      "outputs": []
    },
    {
      "cell_type": "markdown",
      "source": [
        "Задание 4"
      ],
      "metadata": {
        "id": "GKQzynafEfUt"
      }
    },
    {
      "cell_type": "markdown",
      "source": [
        "A. Все перестановки заданной длины"
      ],
      "metadata": {
        "id": "6vs-HlDzEimf"
      }
    },
    {
      "cell_type": "code",
      "source": [
        "def f(n, s):\n",
        "    if len(s) == n:\n",
        "        print(s)\n",
        "        return\n",
        "    for i in range(1, n+1):\n",
        "        if str(i) not in s:\n",
        "            f(n, s + str(i))\n",
        "\n",
        "n = int(input())\n",
        "f(n,'')"
      ],
      "metadata": {
        "colab": {
          "base_uri": "https://localhost:8080/"
        },
        "id": "eXAkoEzlEgno",
        "outputId": "c88316a8-1533-4c40-ba18-33075b69646a"
      },
      "execution_count": null,
      "outputs": [
        {
          "output_type": "stream",
          "name": "stdout",
          "text": [
            "3\n",
            "123\n",
            "132\n",
            "213\n",
            "231\n",
            "312\n",
            "321\n"
          ]
        }
      ]
    },
    {
      "cell_type": "markdown",
      "source": [
        "B. Затерянный мир"
      ],
      "metadata": {
        "id": "dpbnxLxEJqLp"
      }
    },
    {
      "cell_type": "code",
      "source": [
        "def check(mas, row, col):\n",
        "    for i in range(row):\n",
        "        if mas[i] == col:\n",
        "            return False\n",
        "        if abs(row - i) == abs(col - mas[i]):\n",
        "            return False\n",
        "    return True\n",
        "\n",
        "def dinosaur(mas, row):\n",
        "    n = len(mas)\n",
        "    if row == n:\n",
        "        return 1\n",
        "    count = 0\n",
        "    for col in range(n):\n",
        "        if check(mas, row, col):\n",
        "            mas[row] = col\n",
        "            count += dinosaur(mas, row + 1)\n",
        "            mas[row] = -1\n",
        "    return count\n",
        "\n",
        "n = int(input())\n",
        "mas = [-1]*n\n",
        "print(dinosaur(mas, 0))"
      ],
      "metadata": {
        "colab": {
          "base_uri": "https://localhost:8080/"
        },
        "id": "BeIuxL1JJrqr",
        "outputId": "630cfe4e-913e-4eb4-fb79-ac37ece3ef7d"
      },
      "execution_count": null,
      "outputs": [
        {
          "output_type": "stream",
          "name": "stdout",
          "text": [
            "5\n",
            "10\n"
          ]
        }
      ]
    },
    {
      "cell_type": "markdown",
      "source": [
        "C. Максимальный разрез"
      ],
      "metadata": {
        "id": "s2g9MFxGfXXr"
      }
    },
    {
      "cell_type": "code",
      "source": [
        "#c++"
      ],
      "metadata": {
        "id": "sBnmGS3HfX2Q"
      },
      "execution_count": null,
      "outputs": []
    },
    {
      "cell_type": "markdown",
      "source": [
        "D. Простая задача коммивояжера"
      ],
      "metadata": {
        "id": "NJxy6mvvygDA"
      }
    },
    {
      "cell_type": "code",
      "source": [
        "def tsp(g, start, current, n, count, path, visited, ans):\n",
        "  if count == n and g[current][start] > 0:\n",
        "    ans.append(path + g[current][start])\n",
        "    return\n",
        "  for i in range(n):\n",
        "    if visited[i] == False and g[current][i] > 0:\n",
        "      visited[i] = True\n",
        "      tsp(g, start, i, n, count+1, path + g[current][i], visited, ans)\n",
        "      visited[i] = False\n",
        "\n",
        "n = int(input())\n",
        "g = []\n",
        "for i in range(n):\n",
        "  g.append(list(map(int, input().split())))\n",
        "visited = [False]*n\n",
        "visited[0] = True\n",
        "ans = []\n",
        "tsp(g, 0, 0,  n, 1, 0, visited, ans)\n",
        "\n",
        "if n == 1:\n",
        "  print(g[0][0])\n",
        "else:\n",
        "  if len(ans) == 0:\n",
        "    print(-1)\n",
        "  else:\n",
        "    print(min(ans))"
      ],
      "metadata": {
        "colab": {
          "base_uri": "https://localhost:8080/"
        },
        "id": "tEjPSjmZn0tC",
        "outputId": "9d4d6057-1304-4d45-866d-bdc2cc7c3cf0"
      },
      "execution_count": null,
      "outputs": [
        {
          "output_type": "stream",
          "name": "stdout",
          "text": [
            "1\n",
            "1\n",
            "1\n"
          ]
        }
      ]
    },
    {
      "cell_type": "markdown",
      "source": [
        "E. Генерация правильных скобочных последовательностей - 2"
      ],
      "metadata": {
        "id": "F_-TMk92yn5X"
      }
    },
    {
      "cell_type": "code",
      "source": [
        "def gen_binary(control, n1, n2, prefix, n3, n4, n5, n6):\n",
        "  if n1 == 0 and n2 == 0 and n3 == n5 and n4==n6:\n",
        "    a = b(prefix)\n",
        "    if a == 1:\n",
        "      print(prefix)\n",
        "  else:\n",
        "    if n1 > 0:\n",
        "      gen_binary(control + 1, n1 - 1, n2, prefix + '(', n3+1, n4, n5, n6)\n",
        "      gen_binary(control + 1, n1 - 1, n2, prefix + '[', n3, n4+1, n5, n6)\n",
        "    if (control > 0 and n2 > 0):\n",
        "      if prefix[-1] != '[' and n4+n6 != n-1:\n",
        "        if (n3+n5 == n-2 and n6 == 1) or (n3+n4+n5+n6 == n-1 and (n4+n6)%2 == 1):\n",
        "          pass\n",
        "        else:\n",
        "          gen_binary(control - 1, n1, n2 - 1, prefix + ')', n3, n4, n5+1, n6)\n",
        "      if prefix[-1] != '(' and n3+n5 != n-1:\n",
        "        if (n4+n6 == n-2 and n5 == 1) or (n3+n4+n5+n6 == n-1 and (n3+n5)%2 == 1):\n",
        "          pass\n",
        "        else:\n",
        "          gen_binary(control - 1, n1, n2 - 1, prefix + ']', n3, n4, n5, n6+1)\n",
        "\n",
        "def b(s):\n",
        "  ans = 1\n",
        "  stack = []\n",
        "  dct = {']',')'}\n",
        "  for i in range(len(s)):\n",
        "    if len(stack) == 0:\n",
        "      if s[i] not in dct:\n",
        "        stack.append(s[i])\n",
        "      else:\n",
        "        ans = 0\n",
        "        break\n",
        "    else:\n",
        "      if s[i] in dct:\n",
        "        if s[i] == ']':\n",
        "          k = '['\n",
        "        if s[i] == ')':\n",
        "          k = '('\n",
        "        if k == stack[-1]:\n",
        "          stack.pop()\n",
        "        else:\n",
        "          ans = 0\n",
        "          break\n",
        "      else:\n",
        "        stack.append(s[i])\n",
        "  if ans == 1 and len(stack) == 0:\n",
        "    return 1\n",
        "  else:\n",
        "    return 0\n",
        "\n",
        "n = int(input())\n",
        "if n%2 == 0:\n",
        "  gen_binary(0, n//2, n//2, '', 0, 0, 0, 0) #c++ работает намного быстрее чем python"
      ],
      "metadata": {
        "id": "bcsgfWst0HzR",
        "colab": {
          "base_uri": "https://localhost:8080/"
        },
        "outputId": "9fd95bc7-777d-4617-e89c-c0562b6b49b0"
      },
      "execution_count": null,
      "outputs": [
        {
          "output_type": "stream",
          "name": "stdout",
          "text": [
            "4\n",
            "(())\n",
            "([])\n",
            "()()\n",
            "()[]\n",
            "[()]\n",
            "[[]]\n",
            "[]()\n",
            "[][]\n"
          ]
        }
      ]
    },
    {
      "cell_type": "markdown",
      "source": [
        "Финал"
      ],
      "metadata": {
        "id": "6GZU4gfTsR7i"
      }
    },
    {
      "cell_type": "markdown",
      "source": [
        "A"
      ],
      "metadata": {
        "id": "XzKeY3igESkH"
      }
    },
    {
      "cell_type": "code",
      "source": [
        "#c++"
      ],
      "metadata": {
        "id": "zHJp469dETPT"
      },
      "execution_count": null,
      "outputs": []
    },
    {
      "cell_type": "markdown",
      "source": [
        "B"
      ],
      "metadata": {
        "id": "2LkeXHwisTKg"
      }
    },
    {
      "cell_type": "code",
      "source": [
        "n = int(input())\n",
        "s = input()\n",
        "\n",
        "for i in range(0,n):\n",
        "  k = 1\n",
        "  while s[0+k-1] == s[i-k+1]:\n",
        "    k += 1\n",
        "    if i-k+1 < 0:\n",
        "      break\n",
        "  print(k-1, end=\" \")"
      ],
      "metadata": {
        "colab": {
          "base_uri": "https://localhost:8080/"
        },
        "id": "sL4QaeXusT72",
        "outputId": "cadae7c5-150d-4b37-87e9-fc4e833ec0d7"
      },
      "execution_count": null,
      "outputs": [
        {
          "output_type": "stream",
          "name": "stdout",
          "text": [
            "49\n",
            "burannarubabyrrybaglipspiritmatankollokvzumbboyus\n",
            "1 0 0 0 0 0 0 0 0 10 0 1 0 0 0 0 1 0 0 0 0 0 0 0 0 0 0 0 0 0 0 0 0 0 0 0 0 0 0 0 0 0 0 1 1 0 0 0 0 "
          ]
        }
      ]
    },
    {
      "cell_type": "markdown",
      "source": [
        "C"
      ],
      "metadata": {
        "id": "VEgQm7vCTcHd"
      }
    },
    {
      "cell_type": "code",
      "source": [
        "#c++"
      ],
      "metadata": {
        "id": "Y2az6GiOTcy6"
      },
      "execution_count": null,
      "outputs": []
    },
    {
      "cell_type": "markdown",
      "source": [
        "D"
      ],
      "metadata": {
        "id": "QJA6knIDuRKs"
      }
    },
    {
      "cell_type": "code",
      "source": [
        "def calculate_min_lengths(mas):\n",
        "    sums_set = {0}\n",
        "    min_len_dict = {0: []}\n",
        "\n",
        "    for brick in mas:\n",
        "        new_sums_set = sums_set.copy()\n",
        "\n",
        "        for curr_sum in sorted(sums_set, reverse=True):\n",
        "            new_sum = brick + curr_sum\n",
        "            new_sums_set.add(new_sum)\n",
        "            new_subset = [brick] + min_len_dict[curr_sum]\n",
        "\n",
        "            if new_sum not in min_len_dict:\n",
        "                min_len_dict[new_sum] = new_subset\n",
        "            else:\n",
        "                min_len_dict[new_sum] = min(min_len_dict[new_sum], new_subset, key=len)\n",
        "\n",
        "        sums_set = new_sums_set\n",
        "\n",
        "    return min_len_dict\n",
        "\n",
        "\n",
        "def find_minimum_length_subsequence(length, min_len_dict):\n",
        "    min_len = float('inf')\n",
        "    min_len_subseq = None\n",
        "    for a_sum, a_mas in min_len_dict.items():\n",
        "        b_sum = length - a_sum\n",
        "        if b_sum in min_len_dict:\n",
        "            b_mas = min_len_dict[b_sum]\n",
        "            overall_len = len(b_mas) + len(a_mas)\n",
        "\n",
        "            if overall_len < min_len:\n",
        "                min_len_subseq = b_mas + a_mas\n",
        "                min_len = overall_len\n",
        "\n",
        "    return min_len_subseq\n",
        "\n",
        "\n",
        "length, brick_type_num = map(int, input().split())\n",
        "mas = list(map(int, input().split()))\n",
        "\n",
        "if sum(mas) * 2 < length:\n",
        "    print(-1)\n",
        "else:\n",
        "    min_len_dict = calculate_min_lengths(mas)\n",
        "    min_len_subseq = find_minimum_length_subsequence(length, min_len_dict)\n",
        "\n",
        "    if not min_len_subseq:\n",
        "        print(0)\n",
        "    else:\n",
        "        print(len(min_len_subseq))\n",
        "        print(*min_len_subseq)"
      ],
      "metadata": {
        "colab": {
          "base_uri": "https://localhost:8080/"
        },
        "id": "tqgfbN-GuTdE",
        "outputId": "58a9e935-4c26-4cbe-d1bb-6a5eb653316c"
      },
      "execution_count": null,
      "outputs": [
        {
          "output_type": "stream",
          "name": "stdout",
          "text": [
            "5 2\n",
            "1 2\n",
            "3\n",
            "2 2 1\n"
          ]
        }
      ]
    }
  ]
}